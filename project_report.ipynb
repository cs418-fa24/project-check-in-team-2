{
 "cells": [
  {
   "cell_type": "markdown",
   "metadata": {},
   "source": [
    "## Ethereum Blockchain Transaction Analysis"
   ]
  },
  {
   "cell_type": "markdown",
   "metadata": {},
   "source": [
    "### Link to GitHub Repository\n",
    "https://github.com/cs418-fa24/project-check-in-team-2"
   ]
  },
  {
   "cell_type": "markdown",
   "metadata": {},
   "source": [
    "## Project Introduction\n",
    "In this project, we are analyzing Ethereum blockchain transaction data to investigate trends and insights related to recent transactions.\n",
    "Our primary focus is to explore transaction patterns, fees, and the frequency of various transaction types to gain a deeper understanding of blockchain dynamics.\n",
    "\n",
    "This analysis involves collecting recent transactions, cleaning the data, performing exploratory data analysis (EDA), and applying machine learning techniques to gain insights."
   ]
  },
  {
   "cell_type": "markdown",
   "metadata": {},
   "source": [
    "### Key Questions:\n",
    "1. What patterns or trends can be identified in Ethereum transactions?\n",
    "2. Are there specific metrics that can help predict Ethereum price movements?"
   ]
  },
  {
   "cell_type": "markdown",
   "metadata": {},
   "source": [
    "## Changes to Project Scope\n",
    "Since the initial proposal, we have made the following changes:\n",
    "- **Scope Addition**: We have included a deeper analysis of transaction fees and patterns by block height to identify temporal patterns.\n",
    "- **Scope Reduction**: We initially planned to analyze more historical data; however, we have limited the scope to recent blocks due to time constraints.\n",
    "\n",
    "These adjustments will allow us to focus on recent trends and complete the analysis within the project timeline."
   ]
  },
  {
   "cell_type": "code",
   "execution_count": null,
   "metadata": {},
   "outputs": [],
   "source": []
  }
 ],
 "metadata": {
  "kernelspec": {
   "display_name": "Python 3",
   "language": "python",
   "name": "python3"
  },
  "language_info": {
   "name": "python",
   "version": "3.12.5"
  }
 },
 "nbformat": 4,
 "nbformat_minor": 2
}
